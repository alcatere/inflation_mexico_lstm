{
 "cells": [
  {
   "cell_type": "code",
   "execution_count": 108,
   "metadata": {},
   "outputs": [],
   "source": [
    "# Data Manipulation\n",
    "import numpy as np\n",
    "import pandas as pd\n",
    "\n",
    "# Visual plots\n",
    "import matplotlib.pyplot as plt\n",
    "\n",
    "# Preprocessing\n",
    "from sklearn.preprocessing import StandardScaler\n",
    "\n",
    "# DataLoader\n",
    "from torch.utils.data import Dataset\n",
    "from torch.utils.data import DataLoader\n",
    "\n",
    "# LSTM Model + Lightning\n",
    "import torch\n",
    "import torch.nn as nn\n",
    "import torch.nn.functional as F\n",
    "import lightning as L\n",
    "\n",
    "from lightning.pytorch.callbacks.early_stopping import EarlyStopping\n",
    "from lightning.pytorch.callbacks.model_checkpoint import ModelCheckpoint\n",
    "\n",
    "import os\n",
    "\n",
    "# Device configuration\n",
    "device = torch.device('cuda' if torch.cuda.is_available() else 'cpu')\n",
    "\n",
    "device = torch.device('mps')\n"
   ]
  },
  {
   "cell_type": "code",
   "execution_count": 21,
   "metadata": {},
   "outputs": [],
   "source": [
    "\n",
    "######## Data preprocessing ###########\n",
    "def get_process_data(file_path:str) -> pd.DataFrame:\n",
    "    df = pd.read_csv(file_path, na_values='N/E')\n",
    "\n",
    "    # Change columns names\n",
    "    df.rename(columns={'Fecha': 'Date', 'SP30578': 'INPC'})\n",
    "\n",
    "    # Change name and the type of the data\n",
    "    df.rename(columns={'Fecha': 'Date', 'SP30578': 'INPC'}, inplace=True)\n",
    "    df.dropna(subset='INPC', inplace=True)\n",
    "    df['INPC'] = df['INPC'].astype(float)\n",
    "    df['Date'] = pd.to_datetime(df['Date'], format='%d/%m/%Y')\n",
    "    df.set_index('Date', inplace=True) # Set the index on TIME PERIOD\n",
    "    df = df[\"INPC\"]\n",
    "    return df\n",
    "\n",
    "# Define the LSTM model\n",
    "class LitLSTMModel(L.LightningModule):\n",
    "    def __init__(self, input_size, hidden_size, num_layers, output_size, learning_rate):\n",
    "        super(LitLSTMModel, self).__init__()\n",
    "        self.hidden_size = hidden_size\n",
    "        self.num_layers = num_layers\n",
    "        self.lstm = nn.LSTM(input_size, hidden_size, num_layers, batch_first=True)\n",
    "        self.fc = nn.Linear(hidden_size, output_size)\n",
    "        self.learning_rate = learning_rate\n",
    "\n",
    "    def forward(self, x):\n",
    "        lstm_out, _ = self.lstm(x) # lstm_out = (batch_size, seq_len, hidden_size)\n",
    "        out = self.fc(lstm_out[:,-1])\n",
    "        return out\n",
    "    \n",
    "    def training_step(self, batch, batch_idx):\n",
    "        # training_step defines the train loop. It is independent of forward\n",
    "        x, y = batch\n",
    "        outputs = self.forward(x)\n",
    "        loss = F.mse_loss(outputs, y)\n",
    "        self.log('train_loss', loss, prog_bar=True)\n",
    "        return loss\n",
    "    \n",
    "    def test_step(self, batch, batch_idx):\n",
    "        # this is the test loop\n",
    "        x, y = batch\n",
    "        outputs = self.forward(x)\n",
    "        loss = F.mse_loss(outputs, y)\n",
    "        self.log('test_loss', loss, prog_bar=True)\n",
    "        return loss\n",
    "        \n",
    "    def validation_step(self, batch, batch_idx):\n",
    "        # this is the validation loop\n",
    "        x, y = batch\n",
    "        outputs = self.forward(x)\n",
    "        loss = F.mse_loss(outputs, y)\n",
    "        self.log('validation_loss', loss, prog_bar=True)\n",
    "        return loss\n",
    "    \n",
    "\n",
    "    def configure_optimizers(self):\n",
    "        optimizer = torch.optim.Adam(self.parameters(), lr=self.learning_rate)\n",
    "        return optimizer\n",
    "    \n",
    "\n",
    "class TimeSeriesDataset(Dataset):\n",
    "    def __init__(self, data, seq_length):\n",
    "        self.data = data\n",
    "        self.seq_length = seq_length\n",
    "\n",
    "    def __len__(self):\n",
    "        return len(self.data) - self.seq_length\n",
    "\n",
    "    def __getitem__(self, index):\n",
    "        x = self.data[index:index + self.seq_length]\n",
    "        y = self.data[index + self.seq_length]\n",
    "        return torch.tensor(x, dtype=torch.float32), torch.tensor(y, dtype=torch.float32)\n",
    "\n",
    "\n",
    "class LitTimeSeriesDataModule(L.LightningDataModule):\n",
    "    def __init__(self, train_data, val_data, test_data, seq_length, batch_size):\n",
    "        super(LitTimeSeriesDataModule, self).__init__()\n",
    "        self.save_hyperparameters()\n",
    "        self.train_data = train_data\n",
    "        self.val_data = val_data\n",
    "        self.test_data = test_data\n",
    "        self.seq_length = seq_length\n",
    "        self.batch_size = batch_size\n",
    "\n",
    "    def setup(self, stage=None):\n",
    "        self.train_dataset = TimeSeriesDataset(self.train_data, self.seq_length)\n",
    "        self.val_dataset = TimeSeriesDataset(self.val_data, self.seq_length)\n",
    "        self.test_dataset = TimeSeriesDataset(self.test_data, self.seq_length)\n",
    "\n",
    "    def train_dataloader(self):\n",
    "        return DataLoader(self.train_dataset, batch_size=self.batch_size, shuffle=False, num_workers=10, persistent_workers=True)\n",
    "\n",
    "    def val_dataloader(self):\n",
    "        return DataLoader(self.val_dataset, batch_size=self.batch_size, shuffle=False, num_workers=10, persistent_workers=True)\n",
    "\n",
    "    def test_dataloader(self):\n",
    "        return DataLoader(self.test_dataset, batch_size=self.batch_size, shuffle=False, num_workers=10, persistent_workers=True)\n",
    "\n",
    "# Split into Training, Testing and Validation\n",
    "\n",
    "def train_test_val_time_series_split(data, train_size:float, val_size:float, test_size:float):\n",
    "    # Steps\n",
    "    train_size = int(len(data) * 0.7)\n",
    "    val_size = int(len(data) * 0.2)\n",
    "    test_size = int(len(data) * 0.1) + 1 # matches the total data set\n",
    "    \n",
    "    print(f'Train size: {train_size}')\n",
    "    print(f'Test size: {val_size}')\n",
    "    print(f'Validation size: {test_size}')\n",
    "    print(f'Dataset size: {data.shape[0]}')\n",
    "    \n",
    "    # Split the data\n",
    "    return np.array(data[:train_size]), np.array(data[train_size:train_size + val_size]), np.array(data[train_size + val_size:])"
   ]
  },
  {
   "cell_type": "code",
   "execution_count": 22,
   "metadata": {},
   "outputs": [],
   "source": [
    "# Data collection\n",
    "file_path = './data/INPC_Mexico.csv'\n",
    "df = get_process_data(file_path)\n"
   ]
  },
  {
   "cell_type": "code",
   "execution_count": 23,
   "metadata": {},
   "outputs": [],
   "source": [
    "# Hyper-parameters\n",
    "input_size = 1 # Number of features in the input\n",
    "hidden_size = 128 # Number of features in the hidden state\n",
    "num_layers = 4\n",
    "output_size = 1 \n",
    "learning_rate = 0.0001\n",
    "num_epochs = 20\n",
    "seq_length = 12\n",
    "batch_size = 10\n",
    "max_epochs = 20\n"
   ]
  },
  {
   "cell_type": "code",
   "execution_count": 24,
   "metadata": {},
   "outputs": [
    {
     "name": "stdout",
     "output_type": "stream",
     "text": [
      "Train size: 457\n",
      "Test size: 130\n",
      "Validation size: 66\n",
      "Dataset size: 653\n"
     ]
    }
   ],
   "source": [
    "df_copy = df.values.reshape(-1, 1).copy()\n",
    "train_data, val_data, test_data = train_test_val_time_series_split(df_copy, train_size=0.7, val_size=0.2, test_size=0.1)\n",
    "\n",
    "# Scale the data\n",
    "scaler = StandardScaler().fit(train_data) # Initialize the Scaler\n",
    "scaled_data_train = scaler.transform(train_data)\n",
    "scaled_data_validation = scaler.transform(val_data)\n",
    "scaled_data_test = scaler.transform(test_data)\n",
    "\n",
    "# Create the DataModule\n",
    "data_module = LitTimeSeriesDataModule(scaled_data_train, scaled_data_validation, scaled_data_test, seq_length, batch_size)\n",
    "model = LitLSTMModel(input_size, hidden_size, num_layers, output_size, learning_rate)\n",
    "save_model_path = \"./models/best_model_lightning.ckpt\"\n"
   ]
  },
  {
   "cell_type": "code",
   "execution_count": 128,
   "metadata": {},
   "outputs": [],
   "source": [
    "# Function to predict next n_steps using the model\n",
    "def predict_future(model, initial_data_scaled, n_steps, scaler):    \n",
    "    model.eval()\n",
    "    predictions = []\n",
    "    current_seq = initial_data_scaled.copy()\n",
    "\n",
    "    for _ in range(n_steps):\n",
    "        input_seq = torch.tensor(current_seq).unsqueeze(0).float().to(device)  # Shape: (1, seq_length, 1)\n",
    "        with torch.no_grad():\n",
    "            next_value = model(input_seq).item()\n",
    "        predictions.append(next_value)\n",
    "        \n",
    "        # Update current_seq: Drop the first element and append the predicted value\n",
    "        current_seq = np.append(current_seq[1:], next_value).reshape(-1, 1)\n",
    "\n",
    "    # Inverse transform the predictions\n",
    "    predictions = np.array(predictions).reshape(-1, 1)\n",
    "    predictions_original = scaler.inverse_transform(predictions).flatten()\n",
    "\n",
    "    return predictions_original"
   ]
  },
  {
   "cell_type": "code",
   "execution_count": 145,
   "metadata": {},
   "outputs": [],
   "source": [
    "predictions = []\n",
    "initial_data = df.values[-seq_length:].reshape(-1, 1)  # Last seq_length points to start predictions\n",
    "initial_data_scaled = scaler.transform(initial_data) # transform\n",
    "input_seq = torch.tensor(initial_data_scaled).unsqueeze(0).float().to(device)  # Shape: (1, seq_length, 1)\n",
    "current_seq = initial_data_scaled.copy()\n",
    "\n",
    "for _ in range(7):\n",
    "    input_seq = torch.tensor(current_seq).unsqueeze(0).float().to(device)  # Shape: (1, seq_length, 1)\n",
    "\n",
    "    with torch.no_grad():\n",
    "        next_value = model(input_seq).item()\n",
    "    predictions.append(next_value)\n",
    "\n",
    "    # Update current_seq: Drop the first element and append the predicted value\n",
    "    current_seq = np.append(current_seq[1:], next_value).reshape(-1, 1)\n"
   ]
  },
  {
   "cell_type": "code",
   "execution_count": 149,
   "metadata": {},
   "outputs": [
    {
     "data": {
      "text/plain": [
       "[-0.6689214110374451,\n",
       " -0.6689379215240479,\n",
       " -0.6676911115646362,\n",
       " -0.6651803255081177,\n",
       " -0.661469578742981,\n",
       " -0.6568145751953125,\n",
       " -0.65170818567276]"
      ]
     },
     "execution_count": 149,
     "metadata": {},
     "output_type": "execute_result"
    }
   ],
   "source": [
    "predictions"
   ]
  },
  {
   "cell_type": "code",
   "execution_count": 150,
   "metadata": {},
   "outputs": [
    {
     "data": {
      "text/plain": [
       "array([6.18454101, 6.18398532, 6.22594907, 6.31045433, 6.43534655,\n",
       "       6.59201951, 6.76388473])"
      ]
     },
     "execution_count": 150,
     "metadata": {},
     "output_type": "execute_result"
    }
   ],
   "source": [
    "predictions = np.array(predictions).reshape(-1, 1)\n",
    "\n",
    "scaler.inverse_transform(predictions).flatten()"
   ]
  },
  {
   "cell_type": "code",
   "execution_count": 140,
   "metadata": {},
   "outputs": [
    {
     "data": {
      "text/plain": [
       "array([[6.18454101]])"
      ]
     },
     "execution_count": 140,
     "metadata": {},
     "output_type": "execute_result"
    }
   ],
   "source": [
    "scaler.inverse_transform(np.array(next_value).reshape(-1, 1))"
   ]
  },
  {
   "cell_type": "code",
   "execution_count": 136,
   "metadata": {},
   "outputs": [
    {
     "data": {
      "text/plain": [
       "array([[-0.70233332],\n",
       "       [-0.71035545],\n",
       "       [-0.71481219],\n",
       "       [-0.72045739],\n",
       "       [-0.72610259],\n",
       "       [-0.7243199 ],\n",
       "       [-0.71421795],\n",
       "       [-0.7076814 ],\n",
       "       [-0.72194297],\n",
       "       [-0.72134874],\n",
       "       [-0.71451507],\n",
       "       [-0.71332661]])"
      ]
     },
     "execution_count": 136,
     "metadata": {},
     "output_type": "execute_result"
    }
   ],
   "source": [
    "initial_data_scaled"
   ]
  },
  {
   "cell_type": "code",
   "execution_count": 151,
   "metadata": {},
   "outputs": [
    {
     "data": {
      "text/plain": [
       "<matplotlib.legend.Legend at 0x321eddbb0>"
      ]
     },
     "execution_count": 151,
     "metadata": {},
     "output_type": "execute_result"
    },
    {
     "data": {
      "image/png": "[encoded data removed]",
      "text/plain": [
       "<Figure size 1200x600 with 1 Axes>"
      ]
     },
     "metadata": {},
     "output_type": "display_data"
    }
   ],
   "source": [
    "model = LitLSTMModel.load_from_checkpoint(save_model_path)\n",
    "# Use the last seq_length points from the test data to start predictions\n",
    "initial_data = df.values[-seq_length:].reshape(-1, 1)  # Last seq_length points to start predictions\n",
    "initial_data_scaled = scaler.transform(initial_data) # transform\n",
    "\n",
    "n_steps = 7\n",
    "predictions_future = predict_future(model, initial_data_scaled, n_steps, scaler)\n",
    "\n",
    "############ Prepare for predictions ##################\n",
    "predicition_dates = ['2024-06-01', '2024-07-01', '2024-08-01',\n",
    "                    '2024-09-01', '2024-10-01', '2024-11-01', '2024-12-01']\n",
    "\n",
    "df_prediction = df[-seq_length:].reset_index().copy()\n",
    "df_future = pd.DataFrame({'Date': predicition_dates, 'predictions': predictions_future})\n",
    "df_future = pd.concat([df_prediction, df_future])\n",
    "\n",
    "plt.figure(figsize=(12, 6))\n",
    "plt.plot(df_future['Date'], df_future['INPC'], label='Original Data')\n",
    "plt.plot(df_future['Date'], df_future['predictions'], label='Predicted Data', linestyle='--')\n",
    "#plt.axvline(x=len(df_future)-1, color='r', linestyle='--')  # Line separating original and predicted data\n",
    "plt.title('Original and Predicted Data')\n",
    "plt.xlabel('Time Steps')\n",
    "plt.ylabel('Values')\n",
    "plt.legend()"
   ]
  },
  {
   "cell_type": "code",
   "execution_count": 135,
   "metadata": {},
   "outputs": [
    {
     "data": {
      "text/plain": [
       "array([120.62216675, 120.2313289 , 119.37044407, 118.01367359,\n",
       "       116.23211391, 114.13134243, 111.82150248])"
      ]
     },
     "execution_count": 135,
     "metadata": {},
     "output_type": "execute_result"
    }
   ],
   "source": [
    "predictions_future\n"
   ]
  },
  {
   "cell_type": "code",
   "execution_count": 133,
   "metadata": {},
   "outputs": [
    {
     "data": {
      "text/plain": [
       "array([[5.06],\n",
       "       [4.79],\n",
       "       [4.64],\n",
       "       [4.45],\n",
       "       [4.26],\n",
       "       [4.32],\n",
       "       [4.66],\n",
       "       [4.88],\n",
       "       [4.4 ],\n",
       "       [4.42],\n",
       "       [4.65],\n",
       "       [4.69]])"
      ]
     },
     "execution_count": 133,
     "metadata": {},
     "output_type": "execute_result"
    }
   ],
   "source": [
    "initial_data"
   ]
  },
  {
   "cell_type": "code",
   "execution_count": 132,
   "metadata": {},
   "outputs": [
    {
     "data": {
      "text/plain": [
       "array([[-0.70233332],\n",
       "       [-0.71035545],\n",
       "       [-0.71481219],\n",
       "       [-0.72045739],\n",
       "       [-0.72610259],\n",
       "       [-0.7243199 ],\n",
       "       [-0.71421795],\n",
       "       [-0.7076814 ],\n",
       "       [-0.72194297],\n",
       "       [-0.72134874],\n",
       "       [-0.71451507],\n",
       "       [-0.71332661]])"
      ]
     },
     "execution_count": 132,
     "metadata": {},
     "output_type": "execute_result"
    }
   ],
   "source": [
    "initial_data_scaled"
   ]
  },
  {
   "cell_type": "code",
   "execution_count": null,
   "metadata": {},
   "outputs": [],
   "source": []
  }
 ],
 "metadata": {
  "language_info": {
   "name": "python"
  }
 },
 "nbformat": 4,
 "nbformat_minor": 2
}
